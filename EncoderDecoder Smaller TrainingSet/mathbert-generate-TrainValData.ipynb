{
 "cells": [
  {
   "cell_type": "code",
   "execution_count": 1,
   "metadata": {},
   "outputs": [],
   "source": [
    "import random\n",
    "import operator\n",
    "import numpy as np\n",
    "import pandas as pd\n",
    "import random"
   ]
  },
  {
   "cell_type": "code",
   "execution_count": 2,
   "metadata": {},
   "outputs": [],
   "source": [
    "def returnRandomStart():\n",
    "  questionInit = [\n",
    "      '',\n",
    "      'Hi, could you calculate the following function:',\n",
    "      'Hello, could you calculate the following function:',\n",
    "      'Calculate the following function: ',\n",
    "      'Hello, can you compute this function:',\n",
    "      'Hey, would you solve the subsequent equation:',\n",
    "      'Greetings, could you work out this function:',\n",
    "      'Hi there, can you figure out the ensuing formula:',\n",
    "      'Howdy, would you determine this function:',\n",
    "      'Salutations, could you evaluate the succeeding equation:',\n",
    "      'Hi, can you solve the subsequent mathematical expression:',\n",
    "      'Hey there, would you calculate the ensuing function:',\n",
    "      'Hello, could you solve this subsequent equation:',\n",
    "      'Greetings, can you compute the succeeding formula:',\n",
    "      'Hi there, would you figure out the following function:',\n",
    "      'Howdy, can you work out the ensuing equation:',\n",
    "      'Salutations, would you determine the subsequent function:',\n",
    "      'Hello, could you evaluate this succeeding formula:',\n",
    "      'Hey, can you calculate the subsequent mathematical expression:',\n",
    "      'Hi there, would you solve the following function:',\n",
    "      'Greetings, can you compute this subsequent equation:',\n",
    "      'Howdy, would you figure out the ensuing formula:',\n",
    "      'Salutations, can you determine the succeeding function:',\n",
    "      'Hi, would you work out the subsequent equation:',\n",
    "      'Hello there, could you solve this function:',\n",
    "      'Hey, can you calculate this following mathematical expression:',\n",
    "      'Greetings, would you compute the ensuing formula:',\n",
    "      'Hi, can you figure out this succeeding function:',\n",
    "      'Hello there, could you determine the subsequent equation:',\n",
    "      'Hey, can you evaluate the following formula:',\n",
    "      'Greetings, would you calculate the succeeding mathematical expression:',\n",
    "      'Hi, could you solve the ensuing function:',\n",
    "      'Hello there, can you compute this subsequent equation:',\n",
    "      'Hey, could you figure out the following formula:',\n",
    "      'Greetings, can you work out the subsequent mathematical expression:',\n",
    "      'Hi, would you determine the ensuing function:',\n",
    "      'Hello there, can you evaluate this succeeding equation:',\n",
    "      'Hey, would you calculate the subsequent formula:',\n",
    "      'Greetings, could you solve the following mathematical expression:',\n",
    "      'Hi, can you compute the ensuing equation:',\n",
    "      'Hello there, would you figure out this succeeding function:',\n",
    "      'Hey, can you determine the subsequent formula:',\n",
    "      'Greetings, could you work out the following equation:',\n",
    "      'Hi, would you solve the ensuing mathematical expression:',\n",
    "      'Hello there, can you calculate this subsequent function:',\n",
    "      'Hey, could you compute the following formula:',\n",
    "      'Greetings, would you figure out the ensuing mathematical expression:',\n",
    "      'Hi, can you determine the subsequent equation:',\n",
    "      'Hello there, would you evaluate this succeeding function:',\n",
    "      'Hey, can you calculate the subsequent formula:',\n",
    "      'Greetings, could you solve the following mathematical expression:',\n",
    "      'Hi, would you compute the ensuing equation:',\n",
    "      'Hello there, can you figure out this succeeding formula:',\n",
    "      'Hey, can you determine the subsequent mathematical expression:',\n",
    "      'Would you compute this function:',\n",
    "      'Can you work out the subsequent equation:',\n",
    "      'Are you able to solve this function:',\n",
    "      'Might you evaluate the succeeding formula:',\n",
    "      'Can you determine this mathematical function:',\n",
    "      'Would you figure out the subsequent expression:',\n",
    "      'Are you capable of calculating this function:',\n",
    "      'Could you derive the following equation:',\n",
    "      'Can you solve this subsequent mathematical function:',\n",
    "      'Would you be able to work out the subsequent formula:',\n",
    "      'Can you analyze this function:',\n",
    "      'Would you decipher this subsequent equation:',\n",
    "      'Can you compute this succeeding mathematical function:',\n",
    "      'Are you able to solve the subsequent formula:',\n",
    "      'Would you be willing to calculate this function:',\n",
    "      'Can you evaluate this succeeding mathematical expression:',\n",
    "      'Might you decipher this subsequent function:',\n",
    "      'Could you solve the following equation:',\n",
    "      'Can you find the solution for this function:',\n",
    "      'Would you be capable of determining this formula:',\n",
    "      'Can you solve this subsequent mathematical function:',\n",
    "      'Could you compute the following formula:',\n",
    "      'Can you figure out this succeeding function:',\n",
    "      'Would you determine the subsequent mathematical expression:',\n",
    "      'Can you calculate this subsequent equation:',\n",
    "      'Could you work out the following function:',\n",
    "      'Can you solve this subsequent formula:',\n",
    "      'Would you be able to derive this equation:',\n",
    "      'Can you solve this subsequent mathematical formula:',\n",
    "      'Could you evaluate the following function:',\n",
    "      'Can you compute this succeeding equation:',\n",
    "      'Would you decipher the subsequent formula:',\n",
    "      'Can you determine this subsequent function:',\n",
    "      'Could you solve the ensuing equation:',\n",
    "      'Can you figure out this succeeding mathematical function:',\n",
    "      'Would you be willing to calculate the subsequent formula:',\n",
    "      'Can you analyze this subsequent equation:',\n",
    "      'Could you derive the following function:',\n",
    "      'Can you compute this succeeding mathematical expression:',\n",
    "      'Would you solve this subsequent formula:',\n",
    "      'Can you decipher this subsequent function:',\n",
    "      'Could you determine the following equation:',\n",
    "      'Can you evaluate this subsequent mathematical function:',\n",
    "      'Would you be capable of solving this formula:',\n",
    "      'Can you work out this subsequent function:',\n",
    "      'Could you compute the succeeding mathematical expression:',\n",
    "      'Can you solve the following mathematical function:',\n",
    "      'Would you be able to determine this subsequent formula:',\n",
    "      'Can you calculate this ensuing equation:',\n",
    "      'Could you analyze the following function:',\n",
    "    ]\n",
    "  return questionInit[random.randint(0,len(questionInit)-1)]\n",
    "\n",
    "\n",
    "def returnRandomAnswer():\n",
    "  aarr = [\n",
    "    '',\n",
    "    \"In my opinion, the solution might be:\",\n",
    "    \"As I see it, the response could be:\",\n",
    "    \"It seems plausible that the answer is:\",\n",
    "    \"From my perspective, the solution might be:\",\n",
    "    \"I reckon the answer could be:\",\n",
    "    \"To my mind, the response might be:\",\n",
    "    \"I believe the answer might be:\",\n",
    "    \"It appears that the solution is:\",\n",
    "    \"In my view, the response could be:\",\n",
    "    \"As far as I can tell, the answer might be:\",\n",
    "    \"It's conceivable that the solution is:\",\n",
    "    \"I opine that the answer could be:\",\n",
    "    \"It strikes me that the response might be:\",\n",
    "    \"I have a hunch the answer is:\",\n",
    "    \"It's my impression that the solution is:\",\n",
    "    \"In my estimation, the answer could be:\",\n",
    "    \"It occurs to me that the response is:\",\n",
    "    \"My perspective suggests the answer might be:\",\n",
    "    \"From where I stand, the solution could be:\",\n",
    "    \"To my way of thinking, the answer is:\",\n",
    "    \"As I understand it, the response could be:\",\n",
    "    \"I sense the answer might be:\",\n",
    "    \"My take is that the solution is:\",\n",
    "    \"It's my belief that the answer could be:\",\n",
    "    \"It's my viewpoint that the response is:\",\n",
    "    \"To the best of my knowledge, the answer might be:\",\n",
    "    \"I have a feeling the solution is:\",\n",
    "    \"I am of the opinion that the response could be:\",\n",
    "    \"It's conceivable to me that the answer is:\",\n",
    "    \"From my standpoint, the solution might be:\",\n",
    "    \"I gather that the answer could be:\",\n",
    "    \"As I perceive it, the response might be:\",\n",
    "    \"It's my understanding that the solution is:\",\n",
    "    \"To my way of seeing things, the answer might be:\",\n",
    "    \"It strikes me as possible that the response is:\",\n",
    "    \"I presume the answer could be:\",\n",
    "    \"It's my assumption that the solution might be:\",\n",
    "    \"I suspect the response could be:\",\n",
    "    \"My take on this is that the answer might be:\",\n",
    "    \"It's my inference that the solution is:\",\n",
    "    \"I venture to say the answer could be:\",\n",
    "    \"It's my suspicion that the response is:\",\n",
    "    \"I would hazard a guess that the solution might be:\",\n",
    "    \"My interpretation is that the answer could be:\",\n",
    "    \"It's my supposition that the response is:\",\n",
    "    \"I dare say the solution could be:\",\n",
    "    \"It's my theory that the answer might be:\",\n",
    "    \"I put forward that the response is:\",\n",
    "    \"It's my judgment that the solution could be:\",\n",
    "    \"I make out that the answer might be:\",\n",
    "    ]\n",
    "  return aarr[random.randint(0,len(aarr)-1)]\n",
    "\n",
    "def returnSpace():\n",
    "  if random.random() > 0.2:\n",
    "    return ' '\n",
    "  else:\n",
    "    return ''\n",
    "\n",
    "# Dictionary mapping operators to their corresponding functions\n",
    "operators = {\n",
    "    '+': operator.add,\n",
    "    '-': operator.sub,\n",
    "    '*': operator.mul,\n",
    "    '/': operator.truediv,  # Use operator.div for Python 2\n",
    "    '**': operator.pow       # Power operator\n",
    "}\n",
    "\n",
    "def generate_complex_expression(length=5):\n",
    "    # Randomly select numbers and operators to create a more complex expression\n",
    "    expression = ''\n",
    "    start = True\n",
    "    closeBrackets = 0\n",
    "    for _ in range(length):\n",
    "        start = False\n",
    "        num = random.randint(1, 10)\n",
    "        operator = np.random.choice(list(operators.keys()),p=[0.395, 0.395, 0.1, 0.1, 0.01])\n",
    "        if random.random() > 0.5:\n",
    "          expression += f\"( {num} {operator} \"\n",
    "          closeBrackets += 1\n",
    "        elif random.random() > 0.5 and closeBrackets > 0:\n",
    "          expression += f\"{num} ) {operator} \"\n",
    "          closeBrackets -= 1\n",
    "        else:\n",
    "          expression += f\"{num} {operator} \"\n",
    "\n",
    "    # Append a final number to complete the expression\n",
    "    expression += str(random.randint(1, 10))\n",
    "    while closeBrackets > 0:\n",
    "      expression += ' )'\n",
    "      closeBrackets -= 1\n",
    "    return expression\n",
    "\n",
    "import signal\n",
    "\n",
    "# Function to continuously append lines to a file\n",
    "def append_to_file(path,text):\n",
    "    with open(path, 'a') as file:\n",
    "        file.write(text + '\\n')\n",
    "\n",
    "def handler(signum, frame):\n",
    "   print(\"Forever is over!\")\n",
    "   raise Exception(\"end of time\")\n",
    "\n",
    "def calculate_complex_expression(expression):\n",
    "    try:\n",
    "        # Calculate the result using eval\n",
    "        result = eval(expression)\n",
    "        return result\n",
    "    except ZeroDivisionError:\n",
    "        return \"Error: Division by zero\"\n",
    "    except Exception as e:\n",
    "        return f\"Error: {str(e)}\""
   ]
  },
  {
   "cell_type": "code",
   "execution_count": 3,
   "metadata": {},
   "outputs": [
    {
     "name": "stderr",
     "output_type": "stream",
     "text": [
      "  3%|▎         | 663/20000 [00:00<00:05, 3357.39it/s]"
     ]
    },
    {
     "name": "stdout",
     "output_type": "stream",
     "text": [
      "ufunc 'absolute' did not contain a loop with signature matching types <class 'numpy.dtypes.StrDType'> -> None\n",
      "ufunc 'absolute' did not contain a loop with signature matching types <class 'numpy.dtypes.StrDType'> -> None\n"
     ]
    },
    {
     "name": "stderr",
     "output_type": "stream",
     "text": [
      " 10%|█         | 2079/20000 [00:00<00:05, 3362.44it/s]"
     ]
    },
    {
     "name": "stdout",
     "output_type": "stream",
     "text": [
      "ufunc 'absolute' did not contain a loop with signature matching types <class 'numpy.dtypes.StrDType'> -> None\n",
      "ufunc 'absolute' did not contain a loop with signature matching types <class 'numpy.dtypes.StrDType'> -> None\n"
     ]
    },
    {
     "name": "stderr",
     "output_type": "stream",
     "text": [
      " 18%|█▊        | 3554/20000 [00:01<00:04, 3537.92it/s]"
     ]
    },
    {
     "name": "stdout",
     "output_type": "stream",
     "text": [
      "ufunc 'absolute' did not contain a loop with signature matching types <class 'numpy.dtypes.StrDType'> -> None\n",
      "ufunc 'absolute' did not contain a loop with signature matching types <class 'numpy.dtypes.StrDType'> -> None\n",
      "ufunc 'absolute' did not contain a loop with signature matching types <class 'numpy.dtypes.StrDType'> -> None\n",
      "ufunc 'absolute' did not contain a loop with signature matching types <class 'numpy.dtypes.StrDType'> -> None\n",
      "ufunc 'absolute' did not contain a loop with signature matching types <class 'numpy.dtypes.StrDType'> -> None\n"
     ]
    },
    {
     "name": "stderr",
     "output_type": "stream",
     "text": [
      " 34%|███▎      | 6713/20000 [00:01<00:03, 3915.56it/s]"
     ]
    },
    {
     "name": "stdout",
     "output_type": "stream",
     "text": [
      "ufunc 'absolute' did not contain a loop with signature matching types <class 'numpy.dtypes.StrDType'> -> None\n",
      "ufunc 'absolute' did not contain a loop with signature matching types <class 'numpy.dtypes.StrDType'> -> None\n"
     ]
    },
    {
     "name": "stderr",
     "output_type": "stream",
     "text": [
      " 42%|████▏     | 8321/20000 [00:02<00:03, 3853.83it/s]"
     ]
    },
    {
     "name": "stdout",
     "output_type": "stream",
     "text": [
      "ufunc 'absolute' did not contain a loop with signature matching types <class 'numpy.dtypes.StrDType'> -> None\n",
      "ufunc 'absolute' did not contain a loop with signature matching types <class 'numpy.dtypes.StrDType'> -> None\n"
     ]
    },
    {
     "name": "stderr",
     "output_type": "stream",
     "text": [
      " 45%|████▌     | 9073/20000 [00:02<00:03, 3244.57it/s]"
     ]
    },
    {
     "name": "stdout",
     "output_type": "stream",
     "text": [
      "ufunc 'absolute' did not contain a loop with signature matching types <class 'numpy.dtypes.StrDType'> -> None\n"
     ]
    },
    {
     "name": "stderr",
     "output_type": "stream",
     "text": [
      " 49%|████▊     | 9720/20000 [00:02<00:03, 3072.84it/s]"
     ]
    },
    {
     "name": "stdout",
     "output_type": "stream",
     "text": [
      "ufunc 'absolute' did not contain a loop with signature matching types <class 'numpy.dtypes.StrDType'> -> None\n",
      "ufunc 'absolute' did not contain a loop with signature matching types <class 'numpy.dtypes.StrDType'> -> None\n"
     ]
    },
    {
     "name": "stderr",
     "output_type": "stream",
     "text": [
      " 53%|█████▎    | 10609/20000 [00:03<00:03, 2718.14it/s]"
     ]
    },
    {
     "name": "stdout",
     "output_type": "stream",
     "text": [
      "ufunc 'absolute' did not contain a loop with signature matching types <class 'numpy.dtypes.StrDType'> -> None\n",
      "ufunc 'absolute' did not contain a loop with signature matching types <class 'numpy.dtypes.StrDType'> -> None\n",
      "ufunc 'absolute' did not contain a loop with signature matching types <class 'numpy.dtypes.StrDType'> -> None\n"
     ]
    },
    {
     "name": "stderr",
     "output_type": "stream",
     "text": [
      " 62%|██████▏   | 12478/20000 [00:03<00:02, 3427.20it/s]"
     ]
    },
    {
     "name": "stdout",
     "output_type": "stream",
     "text": [
      "ufunc 'absolute' did not contain a loop with signature matching types <class 'numpy.dtypes.StrDType'> -> None\n",
      "ufunc 'absolute' did not contain a loop with signature matching types <class 'numpy.dtypes.StrDType'> -> None\n"
     ]
    },
    {
     "name": "stderr",
     "output_type": "stream",
     "text": [
      " 76%|███████▌  | 15120/20000 [00:04<00:01, 3795.26it/s]"
     ]
    },
    {
     "name": "stdout",
     "output_type": "stream",
     "text": [
      "ufunc 'absolute' did not contain a loop with signature matching types <class 'numpy.dtypes.StrDType'> -> None\n"
     ]
    },
    {
     "name": "stderr",
     "output_type": "stream",
     "text": [
      " 85%|████████▍ | 16993/20000 [00:05<00:00, 3372.25it/s]"
     ]
    },
    {
     "name": "stdout",
     "output_type": "stream",
     "text": [
      "ufunc 'absolute' did not contain a loop with signature matching types <class 'numpy.dtypes.StrDType'> -> None\n"
     ]
    },
    {
     "name": "stderr",
     "output_type": "stream",
     "text": [
      "100%|██████████| 20000/20000 [00:05<00:00, 3441.77it/s]\n"
     ]
    },
    {
     "name": "stdout",
     "output_type": "stream",
     "text": [
      "ufunc 'absolute' did not contain a loop with signature matching types <class 'numpy.dtypes.StrDType'> -> None\n",
      "ufunc 'absolute' did not contain a loop with signature matching types <class 'numpy.dtypes.StrDType'> -> None\n",
      "ufunc 'absolute' did not contain a loop with signature matching types <class 'numpy.dtypes.StrDType'> -> None\n",
      "ufunc 'absolute' did not contain a loop with signature matching types <class 'numpy.dtypes.StrDType'> -> None\n"
     ]
    },
    {
     "name": "stderr",
     "output_type": "stream",
     "text": [
      "100%|██████████| 5000/5000 [00:01<00:00, 4016.23it/s]\n"
     ]
    }
   ],
   "source": [
    "from tqdm import tqdm\n",
    "import numpy as np\n",
    "\n",
    "file_path_qtrain = 'questionTrain.txt'\n",
    "\n",
    "arrayExpression = []\n",
    "arrayResult = []\n",
    "for i in tqdm(range(0,20000)):\n",
    "  try:\n",
    "    expressionSize = np.random.randint(1, 3)\n",
    "    expression = generate_complex_expression(expressionSize)\n",
    "    result = calculate_complex_expression(expression)\n",
    "    if result == 'Error: Division by zero':\n",
    "      result = 'Error: Division by zero'\n",
    "      append_to_file(file_path_qtrain,expression + ' |' + result)\n",
    "    try:    \n",
    "      if np.abs(result) < 100000:\n",
    "        expression = returnRandomStart() + ' ' + expression\n",
    "        result = str(round(result,2))\n",
    "        append_to_file(file_path_qtrain,expression + ' |'+returnRandomAnswer()+ \" \" + result)\n",
    "    except Exception as e:\n",
    "        print(e)\n",
    "        pass\n",
    "  except Exception as e:\n",
    "    print(e)\n",
    "    pass\n",
    "\n",
    "file_path_qval = 'questionVal.txt'\n",
    "\n",
    "arrayExpression = []\n",
    "arrayResult = []\n",
    "for i in tqdm(range(0,5000)):\n",
    "    try:\n",
    "      expressionSize = np.random.randint(1, 3)\n",
    "      expression = generate_complex_expression(expressionSize)\n",
    "      result = calculate_complex_expression(expression)\n",
    "      if result == 'Error: Division by zero':\n",
    "        result = 'Error: Division by zero'\n",
    "        append_to_file(file_path_qtrain,expression + ' |' + result)\n",
    "      try:\n",
    "        if result < 10000:\n",
    "          expression = returnRandomStart() + ' ' + expression\n",
    "          result = str(round(result,2))\n",
    "          append_to_file(file_path_qval,expression + ' |'+returnRandomAnswer()+ \" \" + result)\n",
    "      except:\n",
    "        pass\n",
    "    except:\n",
    "        pass"
   ]
  },
  {
   "cell_type": "markdown",
   "metadata": {},
   "source": [
    "# Data Transformation"
   ]
  },
  {
   "cell_type": "code",
   "execution_count": 4,
   "metadata": {},
   "outputs": [],
   "source": [
    "import pickle\n",
    "import random\n",
    "import operator\n",
    "import numpy as np\n",
    "import pandas as pd\n",
    "import random\n",
    "import re\n",
    "\n",
    "import torch\n",
    "import torch\n",
    "import torch.nn as nn\n",
    "import torch.optim as optim\n",
    "\n",
    "def save_to_file(objeto, nome_arquivo):\n",
    "    with open(nome_arquivo, 'wb') as output:\n",
    "        pickle.dump(objeto, output, pickle.HIGHEST_PROTOCOL)\n",
    "\n",
    "\n",
    "def load_file(nome_arquivo):\n",
    "    with open(nome_arquivo, 'rb') as input:\n",
    "        objeto = pickle.load(input)\n",
    "    return objeto"
   ]
  },
  {
   "cell_type": "code",
   "execution_count": 5,
   "metadata": {},
   "outputs": [],
   "source": [
    "import re\n",
    "class Vocabulary:\n",
    "    PAD_token = 0   # Used for padding short sentences\n",
    "    SOS_token = 1   # Start-of-sentence token\n",
    "    EOS_token = 2   # End-of-sentence token\n",
    "    def __init__(self, name, sentence_trim=50):\n",
    "        self.PAD_token = 0   # Used for padding short sentences\n",
    "        self.SOS_token = 1   # Start-of-sentence token\n",
    "        self.EOS_token = 2   # End-of-sentence token\n",
    "        self.NEW_WORD = 3\n",
    "        self.START_NUMBER = 4\n",
    "        self.END_NUMBER = 5\n",
    "        self.name = name\n",
    "        self.word2index = { \n",
    "            \"new_word\" : self.NEW_WORD,\n",
    "            \"PAD\" : self.PAD_token,\n",
    "            \"SOS\" : self.SOS_token,\n",
    "            \"EOS\" : self.EOS_token,\n",
    "            \"<num>\" : self.START_NUMBER,\n",
    "            \"</num>\" : self.END_NUMBER\n",
    "        }\n",
    "        self.word2count = {\n",
    "            \"new_word\" : 1,\n",
    "            \"PAD\" : 1,\n",
    "            \"SOS\" : 1,\n",
    "            \"EOS\" : 1,\n",
    "            \"<num>\" : 1,\n",
    "            \"</num>\" : 1\n",
    "        }\n",
    "        self.index2word = {\n",
    "          self.PAD_token: \"PAD\",\n",
    "          self.SOS_token: \"SOS\",\n",
    "          self.EOS_token: \"EOS\",\n",
    "          self.NEW_WORD : \"new_word\",\n",
    "          self.START_NUMBER: \"<num>\",\n",
    "          self.END_NUMBER: \"</num>\"\n",
    "        }\n",
    "        self.num_words = 6\n",
    "        self.num_sentences = 0\n",
    "        self.longest_sentence = 0\n",
    "        self.sentence_number = []\n",
    "        self.sentence_trim = sentence_trim\n",
    "\n",
    "    def add_word(self, word):\n",
    "        if word not in self.word2index:\n",
    "            # First entry of word into vocabulary\n",
    "            self.word2index[word] = self.num_words\n",
    "            self.word2count[word] = 1\n",
    "            self.index2word[self.num_words] = word\n",
    "            self.num_words += 1\n",
    "        else:\n",
    "            # Word exists; increase word count\n",
    "            self.word2count[word] += 1\n",
    "            \n",
    "    def add_sentence(self, sentence):\n",
    "        sentence_len = 0\n",
    "        sentence = sentence.replace('|',' | ').replace(',',' , ').replace(':',' : ').replace('\\n','').strip()\n",
    "        numbers = re.findall('([-\\d\\.]+)',sentence)\n",
    "        formattedSentence = []\n",
    "        for word in sentence.split(\" \"):\n",
    "            if word in numbers:\n",
    "                word = [\"<num>\"] + [ c for c in word ] + [\"</num>\"]\n",
    "                for c in word:\n",
    "                    formattedSentence.append(c)\n",
    "            else:\n",
    "                formattedSentence.append(word.lower())\n",
    "        for word in formattedSentence:\n",
    "            sentence_len += 1\n",
    "            self.add_word(word)\n",
    "        if sentence_len > self.longest_sentence:\n",
    "            # This is the longest sentence\n",
    "            self.longest_sentence = sentence_len\n",
    "        # Count the number of sentences\n",
    "        self.num_sentences += 1\n",
    "        self.sentence_number.append(sentence_len)\n",
    "\n",
    "    def to_word(self, index):\n",
    "        return self.index2word[index]\n",
    "\n",
    "    def to_index(self, word):\n",
    "        return self.word2index[word.lower()]\n",
    "\n",
    "    def sentence_to_index(self, sentence, padding=False):\n",
    "        sentence = sentence.replace('|',' | ').replace(',',' , ').replace(':',' : ').replace('\\n','').strip()\n",
    "        numbers = re.findall('([-\\d\\.]+)',sentence)\n",
    "        formattedSentence = []\n",
    "        for word in sentence.split(\" \"):\n",
    "            if word in numbers:\n",
    "                word = [\"<num>\"] + [ c for c in word ] + [\"</num>\"]\n",
    "                for c in word:\n",
    "                    formattedSentence.append(c)\n",
    "            else:\n",
    "                formattedSentence.append(word.lower())\n",
    "        array = []\n",
    "        array.append(self.SOS_token)\n",
    "        for tok in formattedSentence:\n",
    "            try:\n",
    "                array.append(self.to_index(tok))\n",
    "            except:\n",
    "                #self.add_word(tok.text)\n",
    "                #array.append(self.to_index(tok.text))\n",
    "                array.append(self.to_index(\"new_word\"))\n",
    "        array.append(self.EOS_token)\n",
    "        if padding:\n",
    "            for i in range(len(array),self.sentence_trim):\n",
    "                array.append(self.PAD_token)\n",
    "            return array[:self.sentence_trim]\n",
    "        else:\n",
    "            return array"
   ]
  },
  {
   "cell_type": "code",
   "execution_count": 6,
   "metadata": {},
   "outputs": [],
   "source": [
    "file1 = 'questionTrain.txt'\n",
    "file2 = 'questionVal.txt'\n",
    "vocab = Vocabulary('basicMat',60)\n",
    "with open(file1) as f:\n",
    "    train = f.readlines()\n",
    "with open(file2) as f:\n",
    "    val = f.readlines()\n",
    "\n",
    "for i in train:\n",
    "    vocab.add_sentence(i.split('|')[0])\n",
    "    vocab.add_sentence(i.split('|')[1])\n",
    "for i in val:\n",
    "    vocab.add_sentence(i.split('|')[0])\n",
    "    vocab.add_sentence(i.split('|')[1])"
   ]
  },
  {
   "cell_type": "code",
   "execution_count": 7,
   "metadata": {},
   "outputs": [
    {
     "data": {
      "text/plain": [
       "(150, 34, 49764)"
      ]
     },
     "execution_count": 7,
     "metadata": {},
     "output_type": "execute_result"
    }
   ],
   "source": [
    "vocab.num_words, vocab.longest_sentence, vocab.num_sentences"
   ]
  },
  {
   "cell_type": "code",
   "execution_count": 8,
   "metadata": {},
   "outputs": [
    {
     "data": {
      "text/plain": [
       "17.92898480829515"
      ]
     },
     "execution_count": 8,
     "metadata": {},
     "output_type": "execute_result"
    }
   ],
   "source": [
    "np.mean(vocab.sentence_number)"
   ]
  },
  {
   "cell_type": "code",
   "execution_count": 9,
   "metadata": {},
   "outputs": [
    {
     "data": {
      "text/plain": [
       "{0: 'PAD',\n",
       " 1: 'SOS',\n",
       " 2: 'EOS',\n",
       " 3: 'new_word',\n",
       " 4: '<num>',\n",
       " 5: '</num>',\n",
       " 6: 'hey',\n",
       " 7: ',',\n",
       " 8: '',\n",
       " 9: 'would',\n",
       " 10: 'you',\n",
       " 11: 'calculate',\n",
       " 12: 'the',\n",
       " 13: 'subsequent',\n",
       " 14: 'formula',\n",
       " 15: ':',\n",
       " 16: '(',\n",
       " 17: '9',\n",
       " 18: '-',\n",
       " 19: '2',\n",
       " 20: ')',\n",
       " 21: 'it',\n",
       " 22: 'appears',\n",
       " 23: 'that',\n",
       " 24: 'solution',\n",
       " 25: 'is',\n",
       " 26: '7',\n",
       " 27: 'hi',\n",
       " 28: 'determine',\n",
       " 29: 'ensuing',\n",
       " 30: 'function',\n",
       " 31: '5',\n",
       " 32: '+',\n",
       " 33: '6',\n",
       " 34: 'my',\n",
       " 35: 'take',\n",
       " 36: '1',\n",
       " 37: 'hello',\n",
       " 38: 'there',\n",
       " 39: 'figure',\n",
       " 40: 'out',\n",
       " 41: 'this',\n",
       " 42: 'succeeding',\n",
       " 43: '3',\n",
       " 44: '0',\n",
       " 45: 'seems',\n",
       " 46: 'plausible',\n",
       " 47: 'answer',\n",
       " 48: 'howdy',\n",
       " 49: \"it's\",\n",
       " 50: 'viewpoint',\n",
       " 51: 'response',\n",
       " 52: 'solve',\n",
       " 53: 'mathematical',\n",
       " 54: 'expression',\n",
       " 55: '*',\n",
       " 56: 'i',\n",
       " 57: 'gather',\n",
       " 58: 'could',\n",
       " 59: 'be',\n",
       " 60: 'can',\n",
       " 61: 'evaluate',\n",
       " 62: '4',\n",
       " 63: 'make',\n",
       " 64: 'might',\n",
       " 65: 'following',\n",
       " 66: 'equation',\n",
       " 67: 'understanding',\n",
       " 68: 'capable',\n",
       " 69: 'of',\n",
       " 70: 'determining',\n",
       " 71: 'as',\n",
       " 72: 'understand',\n",
       " 73: 'analyze',\n",
       " 74: 'to',\n",
       " 75: 'way',\n",
       " 76: 'thinking',\n",
       " 77: '/',\n",
       " 78: '8',\n",
       " 79: 'impression',\n",
       " 80: '.',\n",
       " 81: 'strikes',\n",
       " 82: 'me',\n",
       " 83: 'possible',\n",
       " 84: 'are',\n",
       " 85: 'calculating',\n",
       " 86: 'supposition',\n",
       " 87: 'compute',\n",
       " 88: 'put',\n",
       " 89: 'forward',\n",
       " 90: 'decipher',\n",
       " 91: 'conceivable',\n",
       " 92: 'greetings',\n",
       " 93: 'belief',\n",
       " 94: 'suspect',\n",
       " 95: 'best',\n",
       " 96: 'knowledge',\n",
       " 97: 'derive',\n",
       " 98: 'in',\n",
       " 99: 'estimation',\n",
       " 100: 'able',\n",
       " 101: 'assumption',\n",
       " 102: 'suspicion',\n",
       " 103: 'sense',\n",
       " 104: 'work',\n",
       " 105: 'find',\n",
       " 106: 'for',\n",
       " 107: 'perceive',\n",
       " 108: 'willing',\n",
       " 109: 'judgment',\n",
       " 110: '**',\n",
       " 111: 'inference',\n",
       " 112: 'solving',\n",
       " 113: 'dare',\n",
       " 114: 'say',\n",
       " 115: 'from',\n",
       " 116: 'where',\n",
       " 117: 'stand',\n",
       " 118: 'on',\n",
       " 119: 'hazard',\n",
       " 120: 'a',\n",
       " 121: 'guess',\n",
       " 122: 'far',\n",
       " 123: 'tell',\n",
       " 124: 'venture',\n",
       " 125: 'mind',\n",
       " 126: 'salutations',\n",
       " 127: 'seeing',\n",
       " 128: 'things',\n",
       " 129: 'have',\n",
       " 130: 'feeling',\n",
       " 131: 'standpoint',\n",
       " 132: 'see',\n",
       " 133: 'am',\n",
       " 134: 'opinion',\n",
       " 135: 'presume',\n",
       " 136: 'reckon',\n",
       " 137: 'perspective',\n",
       " 138: 'suggests',\n",
       " 139: 'theory',\n",
       " 140: 'hunch',\n",
       " 141: 'interpretation',\n",
       " 142: 'view',\n",
       " 143: 'occurs',\n",
       " 144: 'opine',\n",
       " 145: 'believe',\n",
       " 146: 'error',\n",
       " 147: 'division',\n",
       " 148: 'by',\n",
       " 149: 'zero'}"
      ]
     },
     "execution_count": 9,
     "metadata": {},
     "output_type": "execute_result"
    }
   ],
   "source": [
    "vocab.index2word"
   ]
  },
  {
   "cell_type": "code",
   "execution_count": 11,
   "metadata": {},
   "outputs": [],
   "source": [
    "save_to_file(vocab,'vocab.pkl')"
   ]
  },
  {
   "cell_type": "markdown",
   "metadata": {},
   "source": [
    "#### validação"
   ]
  },
  {
   "cell_type": "code",
   "execution_count": 14,
   "metadata": {},
   "outputs": [
    {
     "name": "stdout",
     "output_type": "stream",
     "text": [
      "QUESTION\n",
      "Hey, can you determine the subsequent mathematical expression: 6 - 8  [1, 6, 7, 8, 60, 10, 28, 12, 13, 53, 54, 15, 8, 4, 33, 5, 4, 18, 5, 4, 78, 5, 2]\n",
      "ANSWER\n",
      "I put forward that the response is: -2\n",
      " [1, 56, 88, 89, 23, 12, 51, 25, 15, 8, 4, 18, 19, 5, 2]\n",
      "SOS hey ,  can you determine the subsequent mathematical expression :  <num> 6 </num> <num> - </num> <num> 8 </num> EOS SOS i put forward that the response is :  <num> - 2 </num> EOS\n"
     ]
    }
   ],
   "source": [
    "print('QUESTION')\n",
    "print(train[100].split(\"|\")[0],vocab.sentence_to_index(train[100].split(\"|\")[0]))\n",
    "print('ANSWER')\n",
    "print(train[100].split(\"|\")[1],vocab.sentence_to_index(train[100].split(\"|\")[1]))\n",
    "\n",
    "print(' '.join( vocab.index2word[i] for i in [1, 6, 7, 8, 60, 10, 28, 12, 13, 53, 54, 15, 8, 4, 33, 5, 4, 18, 5, 4, 78, 5, 2]),\\\n",
    "' '.join( vocab.index2word[i] for i in [1, 56, 88, 89, 23, 12, 51, 25, 15, 8, 4, 18, 19, 5, 2]))"
   ]
  },
  {
   "cell_type": "markdown",
   "metadata": {},
   "source": [
    "#### salvando"
   ]
  },
  {
   "cell_type": "code",
   "execution_count": 15,
   "metadata": {},
   "outputs": [],
   "source": [
    "device = 'cpu'\n",
    "src = []\n",
    "trg = []\n",
    "for sent in np.array(train):\n",
    "    srcS = sent.split(\"|\")[0]\n",
    "    trgS = sent.split(\"|\")[1]\n",
    "    trg.append(vocab.sentence_to_index(trgS,padding=True))\n",
    "    src.append(vocab.sentence_to_index(srcS,padding=True))\n",
    "trg = torch.tensor(trg,dtype=torch.long, device=device)\n",
    "src = torch.tensor(src,dtype=torch.long, device=device)\n",
    "#trg = trg.T\n",
    "#src = src.T\n",
    "\n",
    "save_to_file(src,'src.pkl')\n",
    "save_to_file(trg,'trg.pkl')"
   ]
  },
  {
   "cell_type": "code",
   "execution_count": 16,
   "metadata": {},
   "outputs": [],
   "source": [
    "device = 'cpu'\n",
    "srcVal = []\n",
    "trgVal = []\n",
    "for sent in np.array(val):\n",
    "  srcValS = sent.split(\"|\")[0]\n",
    "  trgValS = sent.split(\"|\")[1]\n",
    "  srcVal.append(vocab.sentence_to_index(srcValS,padding=True))\n",
    "  trgVal.append(vocab.sentence_to_index(trgValS,padding=True))\n",
    "trgVal = torch.tensor(trgVal,dtype=torch.long, device=device)\n",
    "srcVal = torch.tensor(srcVal,dtype=torch.long, device=device)\n",
    "#trgVal = trgVal.T\n",
    "#srcVal = srcVal.T\n",
    "\n",
    "save_to_file(srcVal,'./srcVal.pkl')\n",
    "save_to_file(trgVal,'./trgVal.pkl')"
   ]
  }
 ],
 "metadata": {
  "kernelspec": {
   "display_name": "base",
   "language": "python",
   "name": "python3"
  },
  "language_info": {
   "codemirror_mode": {
    "name": "ipython",
    "version": 3
   },
   "file_extension": ".py",
   "mimetype": "text/x-python",
   "name": "python",
   "nbconvert_exporter": "python",
   "pygments_lexer": "ipython3",
   "version": "3.9.7"
  }
 },
 "nbformat": 4,
 "nbformat_minor": 2
}
