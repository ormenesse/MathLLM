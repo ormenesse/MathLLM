{
 "cells": [
  {
   "cell_type": "code",
   "execution_count": 1,
   "metadata": {},
   "outputs": [],
   "source": [
    "import random\n",
    "import operator\n",
    "import numpy as np\n",
    "import pandas as pd\n",
    "import random"
   ]
  },
  {
   "cell_type": "code",
   "execution_count": 2,
   "metadata": {},
   "outputs": [],
   "source": [
    "def returnRandomStart():\n",
    "  questionInit = [\n",
    "      '',\n",
    "      'Hi, could you calculate the following function:',\n",
    "      'Hello, could you calculate the following function:',\n",
    "      'Calculate the following function: ',\n",
    "      'Hello, can you compute this function:',\n",
    "      'Hey, would you solve the subsequent equation:',\n",
    "      'Greetings, could you work out this function:',\n",
    "      'Hi there, can you figure out the ensuing formula:',\n",
    "      'Howdy, would you determine this function:',\n",
    "      'Salutations, could you evaluate the succeeding equation:',\n",
    "      'Hi, can you solve the subsequent mathematical expression:',\n",
    "      'Hey there, would you calculate the ensuing function:',\n",
    "      'Hello, could you solve this subsequent equation:',\n",
    "      'Greetings, can you compute the succeeding formula:',\n",
    "      'Hi there, would you figure out the following function:',\n",
    "      'Howdy, can you work out the ensuing equation:',\n",
    "      'Salutations, would you determine the subsequent function:',\n",
    "      'Hello, could you evaluate this succeeding formula:',\n",
    "      'Hey, can you calculate the subsequent mathematical expression:',\n",
    "      'Hi there, would you solve the following function:',\n",
    "      'Greetings, can you compute this subsequent equation:',\n",
    "      'Howdy, would you figure out the ensuing formula:',\n",
    "      'Salutations, can you determine the succeeding function:',\n",
    "      'Hi, would you work out the subsequent equation:',\n",
    "      'Hello there, could you solve this function:',\n",
    "      'Hey, can you calculate this following mathematical expression:',\n",
    "      'Greetings, would you compute the ensuing formula:',\n",
    "      'Hi, can you figure out this succeeding function:',\n",
    "      'Hello there, could you determine the subsequent equation:',\n",
    "      'Hey, can you evaluate the following formula:',\n",
    "      'Greetings, would you calculate the succeeding mathematical expression:',\n",
    "      'Hi, could you solve the ensuing function:',\n",
    "      'Hello there, can you compute this subsequent equation:',\n",
    "      'Hey, could you figure out the following formula:',\n",
    "      'Greetings, can you work out the subsequent mathematical expression:',\n",
    "      'Hi, would you determine the ensuing function:',\n",
    "      'Hello there, can you evaluate this succeeding equation:',\n",
    "      'Hey, would you calculate the subsequent formula:',\n",
    "      'Greetings, could you solve the following mathematical expression:',\n",
    "      'Hi, can you compute the ensuing equation:',\n",
    "      'Hello there, would you figure out this succeeding function:',\n",
    "      'Hey, can you determine the subsequent formula:',\n",
    "      'Greetings, could you work out the following equation:',\n",
    "      'Hi, would you solve the ensuing mathematical expression:',\n",
    "      'Hello there, can you calculate this subsequent function:',\n",
    "      'Hey, could you compute the following formula:',\n",
    "      'Greetings, would you figure out the ensuing mathematical expression:',\n",
    "      'Hi, can you determine the subsequent equation:',\n",
    "      'Hello there, would you evaluate this succeeding function:',\n",
    "      'Hey, can you calculate the subsequent formula:',\n",
    "      'Greetings, could you solve the following mathematical expression:',\n",
    "      'Hi, would you compute the ensuing equation:',\n",
    "      'Hello there, can you figure out this succeeding formula:',\n",
    "      'Hey, can you determine the subsequent mathematical expression:',\n",
    "      'Would you compute this function:',\n",
    "      'Can you work out the subsequent equation:',\n",
    "      'Are you able to solve this function:',\n",
    "      'Might you evaluate the succeeding formula:',\n",
    "      'Can you determine this mathematical function:',\n",
    "      'Would you figure out the subsequent expression:',\n",
    "      'Are you capable of calculating this function:',\n",
    "      'Could you derive the following equation:',\n",
    "      'Can you solve this subsequent mathematical function:',\n",
    "      'Would you be able to work out the subsequent formula:',\n",
    "      'Can you analyze this function:',\n",
    "      'Would you decipher this subsequent equation:',\n",
    "      'Can you compute this succeeding mathematical function:',\n",
    "      'Are you able to solve the subsequent formula:',\n",
    "      'Would you be willing to calculate this function:',\n",
    "      'Can you evaluate this succeeding mathematical expression:',\n",
    "      'Might you decipher this subsequent function:',\n",
    "      'Could you solve the following equation:',\n",
    "      'Can you find the solution for this function:',\n",
    "      'Would you be capable of determining this formula:',\n",
    "      'Can you solve this subsequent mathematical function:',\n",
    "      'Could you compute the following formula:',\n",
    "      'Can you figure out this succeeding function:',\n",
    "      'Would you determine the subsequent mathematical expression:',\n",
    "      'Can you calculate this subsequent equation:',\n",
    "      'Could you work out the following function:',\n",
    "      'Can you solve this subsequent formula:',\n",
    "      'Would you be able to derive this equation:',\n",
    "      'Can you solve this subsequent mathematical formula:',\n",
    "      'Could you evaluate the following function:',\n",
    "      'Can you compute this succeeding equation:',\n",
    "      'Would you decipher the subsequent formula:',\n",
    "      'Can you determine this subsequent function:',\n",
    "      'Could you solve the ensuing equation:',\n",
    "      'Can you figure out this succeeding mathematical function:',\n",
    "      'Would you be willing to calculate the subsequent formula:',\n",
    "      'Can you analyze this subsequent equation:',\n",
    "      'Could you derive the following function:',\n",
    "      'Can you compute this succeeding mathematical expression:',\n",
    "      'Would you solve this subsequent formula:',\n",
    "      'Can you decipher this subsequent function:',\n",
    "      'Could you determine the following equation:',\n",
    "      'Can you evaluate this subsequent mathematical function:',\n",
    "      'Would you be capable of solving this formula:',\n",
    "      'Can you work out this subsequent function:',\n",
    "      'Could you compute the succeeding mathematical expression:',\n",
    "      'Can you solve the following mathematical function:',\n",
    "      'Would you be able to determine this subsequent formula:',\n",
    "      'Can you calculate this ensuing equation:',\n",
    "      'Could you analyze the following function:',\n",
    "    ]\n",
    "  return questionInit[random.randint(0,len(questionInit)-1)]\n",
    "\n",
    "\n",
    "def returnRandomAnswer():\n",
    "  aarr = [\n",
    "    '',\n",
    "    \"In my opinion, the solution might be:\",\n",
    "    \"As I see it, the response could be:\",\n",
    "    \"It seems plausible that the answer is:\",\n",
    "    \"From my perspective, the solution might be:\",\n",
    "    \"I reckon the answer could be:\",\n",
    "    \"To my mind, the response might be:\",\n",
    "    \"I believe the answer might be:\",\n",
    "    \"It appears that the solution is:\",\n",
    "    \"In my view, the response could be:\",\n",
    "    \"As far as I can tell, the answer might be:\",\n",
    "    \"It's conceivable that the solution is:\",\n",
    "    \"I opine that the answer could be:\",\n",
    "    \"It strikes me that the response might be:\",\n",
    "    \"I have a hunch the answer is:\",\n",
    "    \"It's my impression that the solution is:\",\n",
    "    \"In my estimation, the answer could be:\",\n",
    "    \"It occurs to me that the response is:\",\n",
    "    \"My perspective suggests the answer might be:\",\n",
    "    \"From where I stand, the solution could be:\",\n",
    "    \"To my way of thinking, the answer is:\",\n",
    "    \"As I understand it, the response could be:\",\n",
    "    \"I sense the answer might be:\",\n",
    "    \"My take is that the solution is:\",\n",
    "    \"It's my belief that the answer could be:\",\n",
    "    \"It's my viewpoint that the response is:\",\n",
    "    \"To the best of my knowledge, the answer might be:\",\n",
    "    \"I have a feeling the solution is:\",\n",
    "    \"I am of the opinion that the response could be:\",\n",
    "    \"It's conceivable to me that the answer is:\",\n",
    "    \"From my standpoint, the solution might be:\",\n",
    "    \"I gather that the answer could be:\",\n",
    "    \"As I perceive it, the response might be:\",\n",
    "    \"It's my understanding that the solution is:\",\n",
    "    \"To my way of seeing things, the answer might be:\",\n",
    "    \"It strikes me as possible that the response is:\",\n",
    "    \"I presume the answer could be:\",\n",
    "    \"It's my assumption that the solution might be:\",\n",
    "    \"I suspect the response could be:\",\n",
    "    \"My take on this is that the answer might be:\",\n",
    "    \"It's my inference that the solution is:\",\n",
    "    \"I venture to say the answer could be:\",\n",
    "    \"It's my suspicion that the response is:\",\n",
    "    \"I would hazard a guess that the solution might be:\",\n",
    "    \"My interpretation is that the answer could be:\",\n",
    "    \"It's my supposition that the response is:\",\n",
    "    \"I dare say the solution could be:\",\n",
    "    \"It's my theory that the answer might be:\",\n",
    "    \"I put forward that the response is:\",\n",
    "    \"It's my judgment that the solution could be:\",\n",
    "    \"I make out that the answer might be:\",\n",
    "    ]\n",
    "  return aarr[random.randint(0,len(aarr)-1)]\n",
    "\n",
    "def returnSpace():\n",
    "  if random.random() > 0.2:\n",
    "    return ' '\n",
    "  else:\n",
    "    return ''\n",
    "\n",
    "# Dictionary mapping operators to their corresponding functions\n",
    "operators = {\n",
    "    '+': operator.add,\n",
    "    '-': operator.sub,\n",
    "    '*': operator.mul,\n",
    "    '/': operator.truediv,  # Use operator.div for Python 2\n",
    "    '**': operator.pow       # Power operator\n",
    "}\n",
    "\n",
    "def generate_complex_expression(length=5):\n",
    "    # Randomly select numbers and operators to create a more complex expression\n",
    "    expression = ''\n",
    "    start = True\n",
    "    closeBrackets = 0\n",
    "    for _ in range(length):\n",
    "        start = False\n",
    "        num = random.randint(1, 10)\n",
    "        operator = np.random.choice(list(operators.keys()),p=[0.395, 0.395, 0.1, 0.1, 0.01])\n",
    "        if random.random() > 0.5:\n",
    "          expression += f\"( {num} {operator} \"\n",
    "          closeBrackets += 1\n",
    "        elif random.random() > 0.5 and closeBrackets > 0:\n",
    "          expression += f\"{num} ) {operator} \"\n",
    "          closeBrackets -= 1\n",
    "        else:\n",
    "          expression += f\"{num} {operator} \"\n",
    "\n",
    "    # Append a final number to complete the expression\n",
    "    expression += str(random.randint(1, 10))\n",
    "    while closeBrackets > 0:\n",
    "      expression += ' )'\n",
    "      closeBrackets -= 1\n",
    "    return expression\n",
    "\n",
    "import signal\n",
    "\n",
    "# Function to continuously append lines to a file\n",
    "def append_to_file(path,text):\n",
    "    with open(path, 'a') as file:\n",
    "        file.write(text + '\\n')\n",
    "\n",
    "def handler(signum, frame):\n",
    "   print(\"Forever is over!\")\n",
    "   raise Exception(\"end of time\")\n",
    "\n",
    "def calculate_complex_expression(expression):\n",
    "    try:\n",
    "        # Calculate the result using eval\n",
    "        result = eval(expression)\n",
    "        return result\n",
    "    except ZeroDivisionError:\n",
    "        return \"Error: Division by zero\"\n",
    "    except Exception as e:\n",
    "        return f\"Error: {str(e)}\""
   ]
  },
  {
   "cell_type": "code",
   "execution_count": 3,
   "metadata": {},
   "outputs": [
    {
     "name": "stderr",
     "output_type": "stream",
     "text": [
      "  1%|          | 133/20000 [00:00<01:22, 240.21it/s]"
     ]
    },
    {
     "name": "stdout",
     "output_type": "stream",
     "text": [
      "ufunc 'absolute' did not contain a loop with signature matching types <class 'numpy.dtypes.StrDType'> -> None\n"
     ]
    },
    {
     "name": "stderr",
     "output_type": "stream",
     "text": [
      "  4%|▍         | 770/20000 [00:03<01:46, 181.13it/s]"
     ]
    },
    {
     "name": "stdout",
     "output_type": "stream",
     "text": [
      "ufunc 'absolute' did not contain a loop with signature matching types <class 'numpy.dtypes.StrDType'> -> None\n"
     ]
    },
    {
     "name": "stderr",
     "output_type": "stream",
     "text": [
      " 11%|█▏        | 2273/20000 [00:12<01:32, 192.23it/s]"
     ]
    },
    {
     "name": "stdout",
     "output_type": "stream",
     "text": [
      "ufunc 'absolute' did not contain a loop with signature matching types <class 'numpy.dtypes.StrDType'> -> None\n"
     ]
    },
    {
     "name": "stderr",
     "output_type": "stream",
     "text": [
      " 16%|█▌        | 3225/20000 [00:18<01:31, 182.88it/s]"
     ]
    },
    {
     "name": "stdout",
     "output_type": "stream",
     "text": [
      "ufunc 'absolute' did not contain a loop with signature matching types <class 'numpy.dtypes.StrDType'> -> None\n"
     ]
    },
    {
     "name": "stderr",
     "output_type": "stream",
     "text": [
      " 18%|█▊        | 3680/20000 [00:20<01:39, 164.28it/s]"
     ]
    },
    {
     "name": "stdout",
     "output_type": "stream",
     "text": [
      "ufunc 'absolute' did not contain a loop with signature matching types <class 'numpy.dtypes.StrDType'> -> None\n"
     ]
    },
    {
     "name": "stderr",
     "output_type": "stream",
     "text": [
      " 34%|███▍      | 6789/20000 [00:37<01:12, 181.86it/s]"
     ]
    },
    {
     "name": "stdout",
     "output_type": "stream",
     "text": [
      "ufunc 'absolute' did not contain a loop with signature matching types <class 'numpy.dtypes.StrDType'> -> None\n"
     ]
    },
    {
     "name": "stderr",
     "output_type": "stream",
     "text": [
      " 35%|███▌      | 7017/20000 [00:39<01:19, 164.25it/s]"
     ]
    },
    {
     "name": "stdout",
     "output_type": "stream",
     "text": [
      "ufunc 'absolute' did not contain a loop with signature matching types <class 'numpy.dtypes.StrDType'> -> None\n"
     ]
    },
    {
     "name": "stderr",
     "output_type": "stream",
     "text": [
      " 42%|████▏     | 8408/20000 [00:46<01:06, 174.80it/s]"
     ]
    },
    {
     "name": "stdout",
     "output_type": "stream",
     "text": [
      "ufunc 'absolute' did not contain a loop with signature matching types <class 'numpy.dtypes.StrDType'> -> None\n"
     ]
    },
    {
     "name": "stderr",
     "output_type": "stream",
     "text": [
      " 57%|█████▋    | 11338/20000 [01:02<00:49, 173.55it/s]"
     ]
    },
    {
     "name": "stdout",
     "output_type": "stream",
     "text": [
      "ufunc 'absolute' did not contain a loop with signature matching types <class 'numpy.dtypes.StrDType'> -> None\n"
     ]
    },
    {
     "name": "stderr",
     "output_type": "stream",
     "text": [
      " 64%|██████▍   | 12861/20000 [01:11<00:40, 176.00it/s]"
     ]
    },
    {
     "name": "stdout",
     "output_type": "stream",
     "text": [
      "ufunc 'absolute' did not contain a loop with signature matching types <class 'numpy.dtypes.StrDType'> -> None\n"
     ]
    },
    {
     "name": "stderr",
     "output_type": "stream",
     "text": [
      " 67%|██████▋   | 13454/20000 [01:14<00:33, 195.16it/s]"
     ]
    },
    {
     "name": "stdout",
     "output_type": "stream",
     "text": [
      "ufunc 'absolute' did not contain a loop with signature matching types <class 'numpy.dtypes.StrDType'> -> None\n"
     ]
    },
    {
     "name": "stderr",
     "output_type": "stream",
     "text": [
      " 78%|███████▊  | 15646/20000 [01:26<00:22, 197.04it/s]"
     ]
    },
    {
     "name": "stdout",
     "output_type": "stream",
     "text": [
      "ufunc 'absolute' did not contain a loop with signature matching types <class 'numpy.dtypes.StrDType'> -> None\n"
     ]
    },
    {
     "name": "stderr",
     "output_type": "stream",
     "text": [
      " 88%|████████▊ | 17526/20000 [01:36<00:13, 189.59it/s]"
     ]
    },
    {
     "name": "stdout",
     "output_type": "stream",
     "text": [
      "ufunc 'absolute' did not contain a loop with signature matching types <class 'numpy.dtypes.StrDType'> -> None\n"
     ]
    },
    {
     "name": "stderr",
     "output_type": "stream",
     "text": [
      " 92%|█████████▏| 18320/20000 [01:41<00:08, 199.05it/s]"
     ]
    },
    {
     "name": "stdout",
     "output_type": "stream",
     "text": [
      "ufunc 'absolute' did not contain a loop with signature matching types <class 'numpy.dtypes.StrDType'> -> None\n"
     ]
    },
    {
     "name": "stderr",
     "output_type": "stream",
     "text": [
      " 93%|█████████▎| 18616/20000 [01:42<00:07, 185.59it/s]"
     ]
    },
    {
     "name": "stdout",
     "output_type": "stream",
     "text": [
      "ufunc 'absolute' did not contain a loop with signature matching types <class 'numpy.dtypes.StrDType'> -> None\n"
     ]
    },
    {
     "name": "stderr",
     "output_type": "stream",
     "text": [
      " 94%|█████████▍| 18780/20000 [01:43<00:07, 167.62it/s]"
     ]
    },
    {
     "name": "stdout",
     "output_type": "stream",
     "text": [
      "ufunc 'absolute' did not contain a loop with signature matching types <class 'numpy.dtypes.StrDType'> -> None\n"
     ]
    },
    {
     "name": "stderr",
     "output_type": "stream",
     "text": [
      "100%|██████████| 20000/20000 [01:50<00:00, 181.30it/s]\n",
      "100%|██████████| 5000/5000 [00:26<00:00, 188.82it/s]\n"
     ]
    }
   ],
   "source": [
    "from tqdm import tqdm\n",
    "import numpy as np\n",
    "\n",
    "file_path_qtrain = 'questionTrain.txt'\n",
    "\n",
    "arrayExpression = []\n",
    "arrayResult = []\n",
    "for i in tqdm(range(0,20000)):\n",
    "  try:\n",
    "    expressionSize = np.random.randint(1, 3)\n",
    "    expression = generate_complex_expression(expressionSize)\n",
    "    result = calculate_complex_expression(expression)\n",
    "    if result == 'Error: Division by zero':\n",
    "      result = 'Error: Division by zero'\n",
    "      append_to_file(file_path_qtrain,expression + ' |' + result)\n",
    "    try:    \n",
    "      if np.abs(result) < 100000:\n",
    "        expression = returnRandomStart() + ' ' + expression\n",
    "        result = str(round(result,2))\n",
    "        append_to_file(file_path_qtrain,expression + ' |'+returnRandomAnswer()+ \" \" + result)\n",
    "    except Exception as e:\n",
    "        print(e)\n",
    "        pass\n",
    "  except Exception as e:\n",
    "    print(e)\n",
    "    pass\n",
    "\n",
    "file_path_qval = 'questionVal.txt'\n",
    "\n",
    "arrayExpression = []\n",
    "arrayResult = []\n",
    "for i in tqdm(range(0,5000)):\n",
    "    try:\n",
    "      expressionSize = np.random.randint(1, 3)\n",
    "      expression = generate_complex_expression(expressionSize)\n",
    "      result = calculate_complex_expression(expression)\n",
    "      if result == 'Error: Division by zero':\n",
    "        result = 'Error: Division by zero'\n",
    "        append_to_file(file_path_qtrain,expression + ' |' + result)\n",
    "      try:\n",
    "        if result < 10000:\n",
    "          expression = returnRandomStart() + ' ' + expression\n",
    "          result = str(round(result,2))\n",
    "          append_to_file(file_path_qval,expression + ' |'+returnRandomAnswer()+ \" \" + result)\n",
    "      except:\n",
    "        pass\n",
    "    except:\n",
    "        pass"
   ]
  },
  {
   "cell_type": "markdown",
   "metadata": {},
   "source": [
    "# Data Transformation"
   ]
  },
  {
   "cell_type": "code",
   "execution_count": 4,
   "metadata": {},
   "outputs": [],
   "source": [
    "import pickle\n",
    "import random\n",
    "import operator\n",
    "import numpy as np\n",
    "import pandas as pd\n",
    "import random\n",
    "import re\n",
    "\n",
    "import torch\n",
    "import torch\n",
    "import torch.nn as nn\n",
    "import torch.optim as optim\n",
    "\n",
    "def save_to_file(objeto, nome_arquivo):\n",
    "    with open(nome_arquivo, 'wb') as output:\n",
    "        pickle.dump(objeto, output, pickle.HIGHEST_PROTOCOL)\n",
    "\n",
    "\n",
    "def load_file(nome_arquivo):\n",
    "    with open(nome_arquivo, 'rb') as input:\n",
    "        objeto = pickle.load(input)\n",
    "    return objeto"
   ]
  },
  {
   "cell_type": "code",
   "execution_count": 5,
   "metadata": {},
   "outputs": [],
   "source": [
    "import re\n",
    "class Vocabulary:\n",
    "    PAD_token = 0   # Used for padding short sentences\n",
    "    SOS_token = 1   # Start-of-sentence token\n",
    "    EOS_token = 2   # End-of-sentence token\n",
    "    def __init__(self, name, sentence_trim=50):\n",
    "        self.PAD_token = 0   # Used for padding short sentences\n",
    "        self.SOS_token = 1   # Start-of-sentence token\n",
    "        self.EOS_token = 2   # End-of-sentence token\n",
    "        self.NEW_WORD = 3\n",
    "        self.START_NUMBER = 4\n",
    "        self.END_NUMBER = 5\n",
    "        self.name = name\n",
    "        self.word2index = { \n",
    "            \"new_word\" : self.NEW_WORD,\n",
    "            \"PAD\" : self.PAD_token,\n",
    "            \"SOS\" : self.SOS_token,\n",
    "            \"EOS\" : self.EOS_token,\n",
    "            \"<num>\" : self.START_NUMBER,\n",
    "            \"</num>\" : self.END_NUMBER\n",
    "        }\n",
    "        self.word2count = {\n",
    "            \"new_word\" : 1,\n",
    "            \"PAD\" : 1,\n",
    "            \"SOS\" : 1,\n",
    "            \"EOS\" : 1,\n",
    "            \"<num>\" : 1,\n",
    "            \"</num>\" : 1\n",
    "        }\n",
    "        self.index2word = {\n",
    "          self.PAD_token: \"PAD\",\n",
    "          self.SOS_token: \"SOS\",\n",
    "          self.EOS_token: \"EOS\",\n",
    "          self.NEW_WORD : \"new_word\",\n",
    "          self.START_NUMBER: \"<num>\",\n",
    "          self.END_NUMBER: \"</num>\"\n",
    "        }\n",
    "        self.num_words = 6\n",
    "        self.num_sentences = 0\n",
    "        self.longest_sentence = 0\n",
    "        self.sentence_number = []\n",
    "        self.sentence_trim = sentence_trim\n",
    "\n",
    "    def add_word(self, word):\n",
    "        if word not in self.word2index:\n",
    "            # First entry of word into vocabulary\n",
    "            self.word2index[word] = self.num_words\n",
    "            self.word2count[word] = 1\n",
    "            self.index2word[self.num_words] = word\n",
    "            self.num_words += 1\n",
    "        else:\n",
    "            # Word exists; increase word count\n",
    "            self.word2count[word] += 1\n",
    "            \n",
    "    def add_sentence(self, sentence):\n",
    "        sentence_len = 0\n",
    "        sentence = sentence.replace('|',' | ').replace(',',' , ').replace(':',' : ').replace('\\n','').strip()\n",
    "        numbers = re.findall('([-\\d\\.]+)',sentence)\n",
    "        formattedSentence = []\n",
    "        for word in sentence.split(\" \"):\n",
    "            if word in numbers:\n",
    "                word = [\"<num>\"] + [ c for c in word ] + [\"</num>\"]\n",
    "                for c in word:\n",
    "                    formattedSentence.append(c)\n",
    "            else:\n",
    "                formattedSentence.append(word.lower())\n",
    "        for word in formattedSentence:\n",
    "            sentence_len += 1\n",
    "            self.add_word(word)\n",
    "        if sentence_len > self.longest_sentence:\n",
    "            # This is the longest sentence\n",
    "            self.longest_sentence = sentence_len\n",
    "        # Count the number of sentences\n",
    "        self.num_sentences += 1\n",
    "        self.sentence_number.append(sentence_len)\n",
    "\n",
    "    def to_word(self, index):\n",
    "        return self.index2word[index]\n",
    "\n",
    "    def to_index(self, word):\n",
    "        return self.word2index[word.lower()]\n",
    "\n",
    "    def sentence_to_index(self, sentence, padding=False):\n",
    "        sentence = sentence.replace('|',' | ').replace(',',' , ').replace(':',' : ').replace('\\n','').strip()\n",
    "        numbers = re.findall('([-\\d\\.]+)',sentence)\n",
    "        formattedSentence = []\n",
    "        for word in sentence.split(\" \"):\n",
    "            if word in numbers:\n",
    "                word = [\"<num>\"] + [ c for c in word ] + [\"</num>\"]\n",
    "                for c in word:\n",
    "                    formattedSentence.append(c)\n",
    "            else:\n",
    "                formattedSentence.append(word.lower())\n",
    "        array = []\n",
    "        array.append(self.SOS_token)\n",
    "        for tok in formattedSentence:\n",
    "            try:\n",
    "                array.append(self.to_index(tok))\n",
    "            except:\n",
    "                #self.add_word(tok.text)\n",
    "                #array.append(self.to_index(tok.text))\n",
    "                array.append(self.to_index(\"new_word\"))\n",
    "        array.append(self.EOS_token)\n",
    "        if padding:\n",
    "            for i in range(len(array),self.sentence_trim):\n",
    "                array.append(self.PAD_token)\n",
    "            return array[:self.sentence_trim]\n",
    "        else:\n",
    "            return array"
   ]
  },
  {
   "cell_type": "code",
   "execution_count": 6,
   "metadata": {},
   "outputs": [],
   "source": [
    "file1 = 'questionTrain.txt'\n",
    "file2 = 'questionVal.txt'\n",
    "vocab = Vocabulary('basicMat',60)\n",
    "with open(file1) as f:\n",
    "    train = f.readlines()\n",
    "with open(file2) as f:\n",
    "    val = f.readlines()\n",
    "\n",
    "for i in train:\n",
    "    vocab.add_sentence(i.split('|')[0])\n",
    "    vocab.add_sentence(i.split('|')[1])\n",
    "for i in val:\n",
    "    vocab.add_sentence(i.split('|')[0])\n",
    "    vocab.add_sentence(i.split('|')[1])"
   ]
  },
  {
   "cell_type": "code",
   "execution_count": 7,
   "metadata": {},
   "outputs": [
    {
     "data": {
      "text/plain": [
       "(150, 34, 198948)"
      ]
     },
     "execution_count": 7,
     "metadata": {},
     "output_type": "execute_result"
    }
   ],
   "source": [
    "vocab.num_words, vocab.longest_sentence, vocab.num_sentences"
   ]
  },
  {
   "cell_type": "code",
   "execution_count": 8,
   "metadata": {},
   "outputs": [
    {
     "data": {
      "text/plain": [
       "17.945277157850292"
      ]
     },
     "execution_count": 8,
     "metadata": {},
     "output_type": "execute_result"
    }
   ],
   "source": [
    "np.mean(vocab.sentence_number)"
   ]
  },
  {
   "cell_type": "code",
   "execution_count": 9,
   "metadata": {},
   "outputs": [
    {
     "data": {
      "text/plain": [
       "{0: 'PAD',\n",
       " 1: 'SOS',\n",
       " 2: 'EOS',\n",
       " 3: 'new_word',\n",
       " 4: '<num>',\n",
       " 5: '</num>',\n",
       " 6: 'hey',\n",
       " 7: 'there',\n",
       " 8: ',',\n",
       " 9: '',\n",
       " 10: 'would',\n",
       " 11: 'you',\n",
       " 12: 'calculate',\n",
       " 13: 'the',\n",
       " 14: 'ensuing',\n",
       " 15: 'function',\n",
       " 16: ':',\n",
       " 17: '(',\n",
       " 18: '4',\n",
       " 19: '+',\n",
       " 20: '1',\n",
       " 21: ')',\n",
       " 22: '/',\n",
       " 23: '7',\n",
       " 24: \"it's\",\n",
       " 25: 'my',\n",
       " 26: 'inference',\n",
       " 27: 'that',\n",
       " 28: 'solution',\n",
       " 29: 'is',\n",
       " 30: '0',\n",
       " 31: '.',\n",
       " 32: 'hi',\n",
       " 33: 'can',\n",
       " 34: 'figure',\n",
       " 35: 'out',\n",
       " 36: 'this',\n",
       " 37: 'succeeding',\n",
       " 38: '8',\n",
       " 39: '9',\n",
       " 40: 'belief',\n",
       " 41: 'answer',\n",
       " 42: 'could',\n",
       " 43: 'be',\n",
       " 44: 'greetings',\n",
       " 45: 'compute',\n",
       " 46: 'subsequent',\n",
       " 47: 'equation',\n",
       " 48: '-',\n",
       " 49: '5',\n",
       " 50: 'take',\n",
       " 51: 'determine',\n",
       " 52: 'mathematical',\n",
       " 53: 'expression',\n",
       " 54: 'as',\n",
       " 55: 'i',\n",
       " 56: 'understand',\n",
       " 57: 'it',\n",
       " 58: 'response',\n",
       " 59: 'formula',\n",
       " 60: '3',\n",
       " 61: 'capable',\n",
       " 62: 'of',\n",
       " 63: 'determining',\n",
       " 64: 'hello',\n",
       " 65: 'evaluate',\n",
       " 66: '2',\n",
       " 67: 'in',\n",
       " 68: 'view',\n",
       " 69: 'work',\n",
       " 70: 'suspicion',\n",
       " 71: 'solve',\n",
       " 72: 'following',\n",
       " 73: '6',\n",
       " 74: 'am',\n",
       " 75: 'opinion',\n",
       " 76: 'theory',\n",
       " 77: 'might',\n",
       " 78: 'willing',\n",
       " 79: 'to',\n",
       " 80: 'gather',\n",
       " 81: 'seems',\n",
       " 82: 'plausible',\n",
       " 83: 'impression',\n",
       " 84: 'from',\n",
       " 85: 'where',\n",
       " 86: 'stand',\n",
       " 87: 'dare',\n",
       " 88: 'say',\n",
       " 89: '*',\n",
       " 90: 'derive',\n",
       " 91: 'way',\n",
       " 92: 'seeing',\n",
       " 93: 'things',\n",
       " 94: 'assumption',\n",
       " 95: 'appears',\n",
       " 96: 'salutations',\n",
       " 97: 'standpoint',\n",
       " 98: 'suspect',\n",
       " 99: 'decipher',\n",
       " 100: 'have',\n",
       " 101: 'a',\n",
       " 102: 'feeling',\n",
       " 103: 'mind',\n",
       " 104: 'howdy',\n",
       " 105: 'reckon',\n",
       " 106: 'best',\n",
       " 107: 'knowledge',\n",
       " 108: 'understanding',\n",
       " 109: 'viewpoint',\n",
       " 110: 'are',\n",
       " 111: 'able',\n",
       " 112: 'opine',\n",
       " 113: 'presume',\n",
       " 114: 'far',\n",
       " 115: 'tell',\n",
       " 116: 'analyze',\n",
       " 117: 'believe',\n",
       " 118: 'venture',\n",
       " 119: 'interpretation',\n",
       " 120: 'on',\n",
       " 121: 'strikes',\n",
       " 122: 'me',\n",
       " 123: 'possible',\n",
       " 124: 'hunch',\n",
       " 125: 'make',\n",
       " 126: 'find',\n",
       " 127: 'for',\n",
       " 128: 'perspective',\n",
       " 129: 'occurs',\n",
       " 130: 'judgment',\n",
       " 131: 'conceivable',\n",
       " 132: 'hazard',\n",
       " 133: 'guess',\n",
       " 134: 'see',\n",
       " 135: 'perceive',\n",
       " 136: 'supposition',\n",
       " 137: 'estimation',\n",
       " 138: 'thinking',\n",
       " 139: 'sense',\n",
       " 140: 'error',\n",
       " 141: 'division',\n",
       " 142: 'by',\n",
       " 143: 'zero',\n",
       " 144: 'put',\n",
       " 145: 'forward',\n",
       " 146: 'calculating',\n",
       " 147: 'solving',\n",
       " 148: '**',\n",
       " 149: 'suggests'}"
      ]
     },
     "execution_count": 9,
     "metadata": {},
     "output_type": "execute_result"
    }
   ],
   "source": [
    "vocab.index2word"
   ]
  },
  {
   "cell_type": "code",
   "execution_count": 10,
   "metadata": {},
   "outputs": [],
   "source": [
    "save_to_file(vocab,'vocab.pkl')"
   ]
  },
  {
   "cell_type": "markdown",
   "metadata": {},
   "source": [
    "#### validação"
   ]
  },
  {
   "cell_type": "code",
   "execution_count": 11,
   "metadata": {},
   "outputs": [
    {
     "name": "stdout",
     "output_type": "stream",
     "text": [
      "QUESTION\n",
      "Could you derive the following function: ( 4 - 3 )  [1, 42, 11, 90, 13, 72, 15, 16, 9, 17, 4, 18, 5, 4, 48, 5, 4, 60, 5, 21, 2]\n",
      "ANSWER\n",
      "My take is that the solution is: 1\n",
      " [1, 25, 50, 29, 27, 13, 28, 29, 16, 9, 4, 20, 5, 2]\n",
      "SOS hey there , 3 would solution calculate the expression as function , <num> can </num> <num> 4 </num> <num> willing </num> EOS SOS understand say * 7 calculate determine my function , <num> 4 + </num> EOS\n"
     ]
    }
   ],
   "source": [
    "print('QUESTION')\n",
    "print(train[100].split(\"|\")[0],vocab.sentence_to_index(train[100].split(\"|\")[0]))\n",
    "print('ANSWER')\n",
    "print(train[100].split(\"|\")[1],vocab.sentence_to_index(train[100].split(\"|\")[1]))\n",
    "\n",
    "print(' '.join( vocab.index2word[i] for i in [1, 6, 7, 8, 60, 10, 28, 12, 13, 53, 54, 15, 8, 4, 33, 5, 4, 18, 5, 4, 78, 5, 2]),\\\n",
    "' '.join( vocab.index2word[i] for i in [1, 56, 88, 89, 23, 12, 51, 25, 15, 8, 4, 18, 19, 5, 2]))"
   ]
  },
  {
   "cell_type": "markdown",
   "metadata": {},
   "source": [
    "#### salvando"
   ]
  },
  {
   "cell_type": "code",
   "execution_count": 12,
   "metadata": {},
   "outputs": [
    {
     "name": "stdout",
     "output_type": "stream",
     "text": [
      "Hey there, would you calculate the ensuing function: ( 4 + 1 ) / 7 \n",
      "It's my inference that the solution is: 0.71\n",
      "\n",
      "Add:\n",
      "src: [1, 6, 7, 8, 9, 10, 11, 12, 13, 14, 15, 16, 9, 17, 4, 18, 5, 19, 4, 20, 5, 21, 22, 4, 23, 5, 2] tgt:1\n",
      "Add:\n",
      "src: [1, 6, 7, 8, 9, 10, 11, 12, 13, 14, 15, 16, 9, 17, 4, 18, 5, 19, 4, 20, 5, 21, 22, 4, 23, 5, 2, 1] tgt:24\n",
      "Add:\n",
      "src: [1, 6, 7, 8, 9, 10, 11, 12, 13, 14, 15, 16, 9, 17, 4, 18, 5, 19, 4, 20, 5, 21, 22, 4, 23, 5, 2, 1, 24] tgt:25\n",
      "Add:\n",
      "src: [1, 6, 7, 8, 9, 10, 11, 12, 13, 14, 15, 16, 9, 17, 4, 18, 5, 19, 4, 20, 5, 21, 22, 4, 23, 5, 2, 1, 24, 25] tgt:26\n",
      "Add:\n",
      "src: [1, 6, 7, 8, 9, 10, 11, 12, 13, 14, 15, 16, 9, 17, 4, 18, 5, 19, 4, 20, 5, 21, 22, 4, 23, 5, 2, 1, 24, 25, 26] tgt:27\n",
      "Add:\n",
      "src: [1, 6, 7, 8, 9, 10, 11, 12, 13, 14, 15, 16, 9, 17, 4, 18, 5, 19, 4, 20, 5, 21, 22, 4, 23, 5, 2, 1, 24, 25, 26, 27] tgt:13\n",
      "Add:\n",
      "src: [1, 6, 7, 8, 9, 10, 11, 12, 13, 14, 15, 16, 9, 17, 4, 18, 5, 19, 4, 20, 5, 21, 22, 4, 23, 5, 2, 1, 24, 25, 26, 27, 13] tgt:28\n",
      "Add:\n",
      "src: [1, 6, 7, 8, 9, 10, 11, 12, 13, 14, 15, 16, 9, 17, 4, 18, 5, 19, 4, 20, 5, 21, 22, 4, 23, 5, 2, 1, 24, 25, 26, 27, 13, 28] tgt:29\n",
      "Add:\n",
      "src: [1, 6, 7, 8, 9, 10, 11, 12, 13, 14, 15, 16, 9, 17, 4, 18, 5, 19, 4, 20, 5, 21, 22, 4, 23, 5, 2, 1, 24, 25, 26, 27, 13, 28, 29] tgt:16\n",
      "Add:\n",
      "src: [1, 6, 7, 8, 9, 10, 11, 12, 13, 14, 15, 16, 9, 17, 4, 18, 5, 19, 4, 20, 5, 21, 22, 4, 23, 5, 2, 1, 24, 25, 26, 27, 13, 28, 29, 16] tgt:9\n",
      "Add:\n",
      "src: [1, 6, 7, 8, 9, 10, 11, 12, 13, 14, 15, 16, 9, 17, 4, 18, 5, 19, 4, 20, 5, 21, 22, 4, 23, 5, 2, 1, 24, 25, 26, 27, 13, 28, 29, 16, 9] tgt:4\n",
      "Add:\n",
      "src: [1, 6, 7, 8, 9, 10, 11, 12, 13, 14, 15, 16, 9, 17, 4, 18, 5, 19, 4, 20, 5, 21, 22, 4, 23, 5, 2, 1, 24, 25, 26, 27, 13, 28, 29, 16, 9, 4] tgt:30\n",
      "Add:\n",
      "src: [1, 6, 7, 8, 9, 10, 11, 12, 13, 14, 15, 16, 9, 17, 4, 18, 5, 19, 4, 20, 5, 21, 22, 4, 23, 5, 2, 1, 24, 25, 26, 27, 13, 28, 29, 16, 9, 4, 30] tgt:31\n",
      "Add:\n",
      "src: [1, 6, 7, 8, 9, 10, 11, 12, 13, 14, 15, 16, 9, 17, 4, 18, 5, 19, 4, 20, 5, 21, 22, 4, 23, 5, 2, 1, 24, 25, 26, 27, 13, 28, 29, 16, 9, 4, 30, 31] tgt:23\n",
      "Add:\n",
      "src: [1, 6, 7, 8, 9, 10, 11, 12, 13, 14, 15, 16, 9, 17, 4, 18, 5, 19, 4, 20, 5, 21, 22, 4, 23, 5, 2, 1, 24, 25, 26, 27, 13, 28, 29, 16, 9, 4, 30, 31, 23] tgt:20\n",
      "Add:\n",
      "src: [1, 6, 7, 8, 9, 10, 11, 12, 13, 14, 15, 16, 9, 17, 4, 18, 5, 19, 4, 20, 5, 21, 22, 4, 23, 5, 2, 1, 24, 25, 26, 27, 13, 28, 29, 16, 9, 4, 30, 31, 23, 20] tgt:5\n",
      "Add:\n",
      "src: [1, 6, 7, 8, 9, 10, 11, 12, 13, 14, 15, 16, 9, 17, 4, 18, 5, 19, 4, 20, 5, 21, 22, 4, 23, 5, 2, 1, 24, 25, 26, 27, 13, 28, 29, 16, 9, 4, 30, 31, 23, 20, 5] tgt:2\n",
      "Add:\n",
      "src: [1, 6, 7, 8, 9, 10, 11, 12, 13, 14, 15, 16, 9, 17, 4, 18, 5, 19, 4, 20, 5, 21, 22, 4, 23, 5, 2, 1, 24, 25, 26, 27, 13, 28, 29, 16, 9, 4, 30, 31, 23, 20, 5, 2] tgt:0\n"
     ]
    }
   ],
   "source": [
    "for sent in np.array(train):\n",
    "    srcS = sent.split(\"|\")[0]\n",
    "    trgS = sent.split(\"|\")[1]\n",
    "    print(srcS)\n",
    "    print(trgS)\n",
    "    auxS = vocab.sentence_to_index(srcS)\n",
    "    auxT = vocab.sentence_to_index(trgS)\n",
    "    auxT.append(0)\n",
    "    for i in auxT:\n",
    "        print('Add:')\n",
    "        print('src: '+str(auxS)+' tgt:'+str(i))\n",
    "        auxS.append(i)\n",
    "    break\n",
    "    "
   ]
  },
  {
   "cell_type": "code",
   "execution_count": 13,
   "metadata": {},
   "outputs": [
    {
     "name": "stderr",
     "output_type": "stream",
     "text": [
      "/var/folders/jn/yhdkzrl93pl3sfhn_c3st_l80000gn/T/ipykernel_21048/3535700941.py:24: UserWarning: Creating a tensor from a list of numpy.ndarrays is extremely slow. Please consider converting the list to a single numpy.ndarray with numpy.array() before converting to a tensor. (Triggered internally at /private/var/folders/k1/30mswbxs7r1g6zwn8y4fyt500000gp/T/abs_52h9q6gsr9/croot/pytorch-select_1707258249748/work/torch/csrc/utils/tensor_new.cpp:278.)\n",
      "  src = torch.tensor(src,dtype=torch.long, device=device)\n"
     ]
    },
    {
     "name": "stdout",
     "output_type": "stream",
     "text": [
      "56\n"
     ]
    },
    {
     "name": "stderr",
     "output_type": "stream",
     "text": [
      "/var/folders/jn/yhdkzrl93pl3sfhn_c3st_l80000gn/T/ipykernel_21048/3535700941.py:26: UserWarning: The use of `x.T` on tensors of dimension other than 2 to reverse their shape is deprecated and it will throw an error in a future release. Consider `x.mT` to transpose batches of matrices or `x.permute(*torch.arange(x.ndim - 1, -1, -1))` to reverse the dimensions of a tensor. (Triggered internally at /private/var/folders/k1/30mswbxs7r1g6zwn8y4fyt500000gp/T/abs_52h9q6gsr9/croot/pytorch-select_1707258249748/work/aten/src/ATen/native/TensorShape.cpp:3641.)\n",
      "  trg = trg.T\n"
     ]
    }
   ],
   "source": [
    "def padleft(x,padding=60):\n",
    "    zeros = np.zeros(padding)\n",
    "    x = np.array(x)\n",
    "    zeros[60-len(x):] = x\n",
    "    return zeros\n",
    "\n",
    "device = 'cpu'\n",
    "src = []\n",
    "trg = []\n",
    "mx = 0\n",
    "for sent in np.array(train):\n",
    "    srcS = sent.split(\"|\")[0]\n",
    "    trgS = sent.split(\"|\")[1]\n",
    "    srcS = vocab.sentence_to_index(srcS)\n",
    "    trgS = vocab.sentence_to_index(trgS)\n",
    "    trgS.append(0)\n",
    "    mx = len(srcS) if len(srcS) > mx else mx\n",
    "    for i in trgS:\n",
    "        src.append(padleft(srcS))\n",
    "        trg.append(i)\n",
    "        srcS.append(i)\n",
    "        mx = len(srcS) if len(srcS) > mx else mx\n",
    "\n",
    "src = torch.tensor(src,dtype=torch.long, device=device)\n",
    "trg = torch.tensor(trg,dtype=torch.long, device=device)\n",
    "trg = trg.T\n",
    "src = src.T\n",
    "print(mx)\n",
    "save_to_file(src,'src.pkl')\n",
    "save_to_file(trg,'trg.pkl')"
   ]
  },
  {
   "cell_type": "code",
   "execution_count": 14,
   "metadata": {},
   "outputs": [
    {
     "data": {
      "text/plain": [
       "torch.Size([60, 1342084])"
      ]
     },
     "execution_count": 14,
     "metadata": {},
     "output_type": "execute_result"
    }
   ],
   "source": [
    "src.shape"
   ]
  },
  {
   "cell_type": "code",
   "execution_count": 15,
   "metadata": {},
   "outputs": [],
   "source": [
    "device = 'cpu'\n",
    "srcVal = []\n",
    "trgVal = []\n",
    "for sent in np.array(val):\n",
    "  srcValS = sent.split(\"|\")[0]\n",
    "  trgValS = sent.split(\"|\")[1]\n",
    "  srcValS = vocab.sentence_to_index(srcValS)\n",
    "  trgValS = vocab.sentence_to_index(trgValS)\n",
    "  trgValS.append(0)\n",
    "  for i in trgValS:\n",
    "    srcVal.append(padleft(srcValS))\n",
    "    trgVal.append(i)\n",
    "    srcValS.append(i)\n",
    "srcVal = torch.tensor(srcVal,dtype=torch.long, device=device)\n",
    "trgVal = torch.tensor(trgVal,dtype=torch.long, device=device)\n",
    "trgVal = trgVal.T\n",
    "srcVal = srcVal.T\n",
    "\n",
    "save_to_file(srcVal,'./srcVal.pkl')\n",
    "save_to_file(trgVal,'./trgVal.pkl')"
   ]
  },
  {
   "cell_type": "code",
   "execution_count": 16,
   "metadata": {},
   "outputs": [
    {
     "data": {
      "text/plain": [
       "torch.Size([60, 335385])"
      ]
     },
     "execution_count": 16,
     "metadata": {},
     "output_type": "execute_result"
    }
   ],
   "source": [
    "srcVal.shape"
   ]
  },
  {
   "cell_type": "code",
   "execution_count": null,
   "metadata": {},
   "outputs": [],
   "source": []
  }
 ],
 "metadata": {
  "kernelspec": {
   "display_name": "Python 3 (ipykernel)",
   "language": "python",
   "name": "python3"
  },
  "language_info": {
   "codemirror_mode": {
    "name": "ipython",
    "version": 3
   },
   "file_extension": ".py",
   "mimetype": "text/x-python",
   "name": "python",
   "nbconvert_exporter": "python",
   "pygments_lexer": "ipython3",
   "version": "3.12.4"
  }
 },
 "nbformat": 4,
 "nbformat_minor": 4
}
